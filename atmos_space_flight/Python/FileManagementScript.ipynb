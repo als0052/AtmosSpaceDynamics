{
 "cells": [
  {
   "cell_type": "code",
   "execution_count": 1,
   "metadata": {
    "ExecuteTime": {
     "end_time": "2020-08-13T15:00:34.488578Z",
     "start_time": "2020-08-13T15:00:34.474614Z"
    }
   },
   "outputs": [],
   "source": [
    "from pathlib import Path\n",
    "import json\n",
    "import re"
   ]
  },
  {
   "cell_type": "code",
   "execution_count": 2,
   "metadata": {
    "ExecuteTime": {
     "end_time": "2020-08-13T15:00:34.644773Z",
     "start_time": "2020-08-13T15:00:34.490572Z"
    }
   },
   "outputs": [],
   "source": [
    "matlab_copy_dir = Path().cwd().parent.joinpath('MATLAB-cleaned - Copy')\n",
    "matlab_dir = Path().cwd().parent.joinpath('MATLAB-cleaned')\n",
    "python_dir = Path().cwd()"
   ]
  },
  {
   "cell_type": "code",
   "execution_count": 3,
   "metadata": {
    "ExecuteTime": {
     "end_time": "2020-08-13T15:00:34.787063Z",
     "start_time": "2020-08-13T15:00:34.649408Z"
    }
   },
   "outputs": [],
   "source": [
    "def create_py_files(matlab_dir, python_dir):\n",
    "    \"\"\"Create .py files in python_dir with the names of all the .m files in matlab_dir\"\"\"\n",
    "    \n",
    "    for x in matlab_dir.glob('*.m'):\n",
    "        pyfile_name = str(x.stem) + '.py'\n",
    "        pyfile_path = python_dir.joinpath(pyfile_name)\n",
    "        contents = f'''#!/usr/bin/env python\n",
    "# Filename: {pyfile_name}\n",
    "\n",
    "\n",
    "'''\n",
    "        with open(str(pyfile_path), 'w') as fout:\n",
    "            fout.write(contents)\n",
    "    print(f'Finished. See {python_dir}')\n",
    "\n",
    "\n",
    "def matlab_todos(matlab_dir):\n",
    "    \"\"\"Find all the TODO items in the .m files\n",
    "    \n",
    "        Find all the lines in the MATLAB .m files that start with `% TODO: `,\n",
    "        save them in a dictionary, and print them to a JSON .txt file\n",
    "    \"\"\"\n",
    "    todo_items = {}\n",
    "    rx = \"(?<=% )(TODO: .*)\"\n",
    "    todo_file = str(matlab_dir.joinpath('matlab_todo_items.txt'))\n",
    "\n",
    "    for file in matlab_copy_dir.glob('*.m'):\n",
    "        filename = file.name\n",
    "        with open(file, 'r') as matlab_file:\n",
    "            matlab_code = matlab_file.read()\n",
    "            todo_lines = re.findall(rx, matlab_code, re.MULTILINE)\n",
    "\n",
    "        qq = []\n",
    "        if len(todo_lines) > 0:\n",
    "            for line in todo_lines:\n",
    "                split_line = line.rsplit('% ')\n",
    "                qq += split_line\n",
    "            todo_items[filename] = qq\n",
    "\n",
    "    with open(todo_file, 'w') as fout:\n",
    "        json_dumps_str = json.dumps(todo_items, indent=4)\n",
    "        print(json_dumps_str, file=fout)\n",
    "    return todo_items"
   ]
  },
  {
   "cell_type": "code",
   "execution_count": 4,
   "metadata": {
    "ExecuteTime": {
     "end_time": "2020-08-13T15:00:34.976560Z",
     "start_time": "2020-08-13T15:00:34.791054Z"
    }
   },
   "outputs": [],
   "source": [
    "matlab_todo_items = matlab_todos(matlab_dir=matlab_copy_dir)"
   ]
  },
  {
   "cell_type": "code",
   "execution_count": null,
   "metadata": {},
   "outputs": [],
   "source": []
  }
 ],
 "metadata": {
  "kernelspec": {
   "display_name": "Python 3",
   "language": "python",
   "name": "python3"
  },
  "language_info": {
   "codemirror_mode": {
    "name": "ipython",
    "version": 3
   },
   "file_extension": ".py",
   "mimetype": "text/x-python",
   "name": "python",
   "nbconvert_exporter": "python",
   "pygments_lexer": "ipython3",
   "version": "3.7.6"
  },
  "toc": {
   "base_numbering": 1,
   "nav_menu": {},
   "number_sections": true,
   "sideBar": true,
   "skip_h1_title": false,
   "title_cell": "Table of Contents",
   "title_sidebar": "Contents",
   "toc_cell": false,
   "toc_position": {},
   "toc_section_display": true,
   "toc_window_display": false
  }
 },
 "nbformat": 4,
 "nbformat_minor": 4
}
